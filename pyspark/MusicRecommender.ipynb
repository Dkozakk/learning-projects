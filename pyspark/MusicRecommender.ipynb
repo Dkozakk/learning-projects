{
 "cells": [
  {
   "cell_type": "markdown",
   "metadata": {},
   "source": [
    "#### Common warnings:\n",
    "\n",
    "1. __Backup your solution into the 'work' directory inside the home directory ('/home/jovyan'). It is the only one that state will be saved over sessions.__\n",
    "\n",
    "1. Please, ensure that you call the right interpreter (python2 or python3). Do not write just \"python\" without the major version. There is no guarantee that any particular version of Python is set as the default one in the Grading system.\n",
    "\n",
    "1. One cell must contain only one programming language.\n",
    "E.g. if a cell contains Python code and you also want to call a bash-command (using “!”) in it, you should move the bash to another cell.\n",
    "\n",
    "1. Our IPython converter is an improved version of the standard converter Nbconvert and it can process most of Jupyter's magic commands correctly (e.g. it understands \"%%bash\" and executes the cell as a \"bash\"-script). However, we highly recommend to avoid magics wherever possible.\n",
    "\n",
    "#### Spark specific warnings:\n",
    "\n",
    "1. It is a good practice to run Spark with master \"yarn\". However, containered system's performance is limited. If you see repeating Py4JavaErrors or Py4JNetworkErrors exceptions which you assume are not relevant to your code, feel free to change master to “local”.\n",
    "\n",
    "1. You should eliminate extra symbols in output (such as quotes, brackets etc.). When you finally get the resulting dataframe it is easier to print wiki.take(1) instead of traverse RDD using for cycle. But in this case a lot of junk symbols will be printed like: `[['Anarchism', 'is', .. ]]`. See the right output example in the task.\n",
    "\n",
    "#### Task hint\n",
    "Each subsequent of these tasks is a continuation of the previous one. So, you may use the same IPython notebook for all the programming assignments in this week."
   ]
  },
  {
   "cell_type": "code",
   "execution_count": 8,
   "metadata": {},
   "outputs": [],
   "source": [
    "from pyspark.sql import SparkSession\n",
    "spark_session = SparkSession.builder.enableHiveSupport().master(\"local\").getOrCreate()"
   ]
  },
  {
   "cell_type": "code",
   "execution_count": 9,
   "metadata": {},
   "outputs": [],
   "source": [
    "data = spark_session.read.parquet(\"/data/sample264\")\n",
    "meta = spark_session.read.parquet(\"/data/meta\")"
   ]
  },
  {
   "cell_type": "markdown",
   "metadata": {},
   "source": [
    "#### Normalization could be done by next function"
   ]
  },
  {
   "cell_type": "code",
   "execution_count": 10,
   "metadata": {},
   "outputs": [],
   "source": [
    "from pyspark.sql import Window\n",
    "from pyspark.sql.functions import row_number, sum\n",
    "\n",
    "def norm(df, key1, key2, field, n): \n",
    "    \n",
    "    window = Window.partitionBy(key1).orderBy(col(field).desc())\n",
    "        \n",
    "    topsDF = df.withColumn(\"row_number\", row_number().over(window)) \\\n",
    "        .filter(col(\"row_number\") <= n) \\\n",
    "        .drop(col(\"row_number\")) \n",
    "        \n",
    "    tmpDF = topsDF.groupBy(col(key1)).agg(col(key1), sum(col(field)).alias(\"sum_\" + field))\n",
    "   \n",
    "    normalizedDF = topsDF.join(tmpDF, key1, \"inner\") \\\n",
    "        .withColumn(\"norm_\" + field, col(field) / col(\"sum_\" + field)) \\\n",
    "        .cache()\n",
    "\n",
    "    return normalizedDF"
   ]
  },
  {
   "cell_type": "code",
   "execution_count": 11,
   "metadata": {},
   "outputs": [],
   "source": [
    "from pyspark.sql import Window\n",
    "from pyspark.sql.functions import col, rank, abs\n",
    "\n",
    "data1 = data.select(col('userId'), col('trackId').alias('trackId1'), col('timestamp').alias('timestamp1'))\n",
    "data2 = data.select(col('userId'), col('trackId').alias('trackId2'), col('timestamp').alias('timestamp2'))\n",
    "\n",
    "tracks = data1.join(data2, 'UserId') \\\n",
    "              .filter(col('trackId1') != col('trackId2')) \\\n",
    "              .filter(abs(col('timestamp1') - col('timestamp2')) <= 420) \\\n",
    "              .groupby(col('trackId1'), col('trackId2')) \\\n",
    "              .count().alias('count')\n",
    "\n",
    "normTracks = norm(tracks, \"trackId1\", \"trackId2\", \"count\", 40)"
   ]
  },
  {
   "cell_type": "code",
   "execution_count": 12,
   "metadata": {},
   "outputs": [],
   "source": [
    "# results = (normTracks\n",
    "#  .orderBy(col(\"norm_count\").desc(), col(\"trackId1\"), col(\"trackId2\"))\n",
    "#  .limit(40)\n",
    "# )\n",
    "# results = results.select(col('trackId1'), col('trackId2')).collect()"
   ]
  },
  {
   "cell_type": "code",
   "execution_count": 14,
   "metadata": {},
   "outputs": [
    {
     "name": "stdout",
     "output_type": "stream",
     "text": [
      "+------+-------+-----+---------+------------------+\n",
      "|userId|trackId|count|sum_count|        norm_count|\n",
      "+------+-------+-----+---------+------------------+\n",
      "|  3175| 947718|    1|        9|0.1111111111111111|\n",
      "|  3175| 940951|    1|        9|0.1111111111111111|\n",
      "|  3175| 845631|    1|        9|0.1111111111111111|\n",
      "|  3175| 864690|    1|        9|0.1111111111111111|\n",
      "|  3175| 831005|    1|        9|0.1111111111111111|\n",
      "|  3175| 930432|    1|        9|0.1111111111111111|\n",
      "|  3175| 965012|    1|        9|0.1111111111111111|\n",
      "|  3175| 858940|    1|        9|0.1111111111111111|\n",
      "|  3175| 829307|    1|        9|0.1111111111111111|\n",
      "|  5518| 961148|    3|        6|               0.5|\n",
      "+------+-------+-----+---------+------------------+\n",
      "\n"
     ]
    }
   ],
   "source": [
    "users = data.select(col('userId'), col('trackId'))\n",
    "tracksCounts = users.groupBy(col('userId'), col('trackId')).count()\n",
    "normalizedTracks = norm(tracksCounts, 'userId','trackId','count',  1000)"
   ]
  },
  {
   "cell_type": "code",
   "execution_count": 16,
   "metadata": {},
   "outputs": [],
   "source": [
    "# result = normalizedTracks.orderBy(col('norm_count').desc(), col('userId'), col('trackId')).limit(40)\n",
    "# result = result.select(col('userId'), col('trackId')).collect()"
   ]
  },
  {
   "cell_type": "code",
   "execution_count": 21,
   "metadata": {},
   "outputs": [],
   "source": [
    "# artists = data.select(col('userId').alias('id1'), col('artistId').alias('id2'))\n",
    "# artistsCounts = artists.groupBy(col('id1'), col('id2')).count()\n",
    "# normArtists = norm(artistsCounts, 'id1', 'id2', 'count', 100)\n",
    "# result = normArtists.orderBy(col('norm_count').desc(), col('id1'), col('id2')).limit(40)\n",
    "# result = result.select(col('id1'), 'id2').collect()"
   ]
  },
  {
   "cell_type": "code",
   "execution_count": 23,
   "metadata": {},
   "outputs": [],
   "source": [
    "tracksAndArtists = data.select(col('artistId').alias('id1'), col('trackId').alias('id2'))\n",
    "grouped = tracksAndArtists.groupBy('id1', 'id2').count()\n",
    "normalized = norm(grouped, 'id1', 'id2', 'count', 100)\n",
    "result = normalized.orderBy(col('norm_count').desc(), col('id1'), col('id2')).limit(40)\n",
    "result = result.select(col('id1'), 'id2').collect()"
   ]
  },
  {
   "cell_type": "code",
   "execution_count": 5,
   "metadata": {},
   "outputs": [],
   "source": [
    "spark_session.stop()"
   ]
  },
  {
   "cell_type": "markdown",
   "metadata": {},
   "source": [
    "#### Final notice:\n",
    "\n",
    "1. Please take into account that you must __not__ redirect __stderr__ to anywhere. Hadoop, Hive, and Spark print their logs to stderr and the Grading system also reads and analyses it.\n",
    "\n",
    "1. During checking the code from the notebook, the system runs all notebook's cells and reads the output of only the last filled cell. It is clear that any exception should not be thrown in the running cells. If you decide to write some text in a cell, you should change the style of the cell to Markdown (Cell -> Cell type -> Markdown).\n",
    "\n",
    "1. The Grader takes into account the output from the sample dataset you have in the notebook. Therefore, you have to \"Run All\" cells in the notebook before you send the ipynb solution.\n",
    "\n",
    "1. The name of the notebook must contain only Roman letters, numbers and characters “-” or “_”. For example, Windows adds something like \" (2)\" (with the leading space) at the end of a filename if you try to download a file with the same name. This is a problem, because you will have a space character and curly braces \"(\" and \")\". "
   ]
  },
  {
   "cell_type": "code",
   "execution_count": 24,
   "metadata": {},
   "outputs": [
    {
     "name": "stdout",
     "output_type": "stream",
     "text": [
      "967993 869415\n",
      "967998 947428\n",
      "968004 927380\n",
      "968017 859321\n",
      "968022 852786\n",
      "968034 807671\n",
      "968038 964150\n",
      "968042 835935\n",
      "968043 913568\n",
      "968046 935077\n",
      "968047 806127\n",
      "968065 907906\n",
      "968073 964586\n",
      "968086 813446\n",
      "968092 837129\n",
      "968118 914441\n",
      "968125 821410\n",
      "968140 953008\n",
      "968148 877445\n",
      "968161 809793\n",
      "968163 803065\n",
      "968168 876119\n",
      "968189 858639\n",
      "968221 896937\n",
      "968224 892880\n",
      "968232 825536\n",
      "968237 932845\n",
      "968238 939177\n",
      "968241 879045\n",
      "968242 911250\n",
      "968248 953554\n",
      "968255 808494\n",
      "968259 880230\n",
      "968265 950148\n",
      "968266 824437\n",
      "968269 913243\n",
      "968272 816049\n",
      "968278 946743\n",
      "968285 847460\n",
      "968286 940006\n"
     ]
    }
   ],
   "source": [
    "for val in result:\n",
    "    print(\"%s %s\" % val)"
   ]
  },
  {
   "cell_type": "code",
   "execution_count": null,
   "metadata": {},
   "outputs": [],
   "source": []
  }
 ],
 "metadata": {
  "kernelspec": {
   "display_name": "Python 3",
   "language": "python",
   "name": "python3"
  },
  "language_info": {
   "codemirror_mode": {
    "name": "ipython",
    "version": 3
   },
   "file_extension": ".py",
   "mimetype": "text/x-python",
   "name": "python",
   "nbconvert_exporter": "python",
   "pygments_lexer": "ipython3",
   "version": "3.6.6"
  }
 },
 "nbformat": 4,
 "nbformat_minor": 2
}
