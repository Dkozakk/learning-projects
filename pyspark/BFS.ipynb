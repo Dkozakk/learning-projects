{
 "cells": [
  {
   "cell_type": "code",
   "execution_count": 1,
   "metadata": {},
   "outputs": [],
   "source": [
    "from pyspark.sql.types import StructType, StructField, IntegerType\n",
    "from pyspark.sql.functions import *"
   ]
  },
  {
   "cell_type": "code",
   "execution_count": 2,
   "metadata": {},
   "outputs": [],
   "source": [
    "from pyspark.sql import SparkSession\n",
    "spark_session = SparkSession.builder.enableHiveSupport().master(\"yarn\").getOrCreate()"
   ]
  },
  {
   "cell_type": "code",
   "execution_count": 69,
   "metadata": {},
   "outputs": [],
   "source": [
    "graph_schema = StructType([\n",
    "    StructField(\"to\", IntegerType(), False),\n",
    "    StructField(\"from\", IntegerType(), False)\n",
    "])"
   ]
  },
  {
   "cell_type": "code",
   "execution_count": 23,
   "metadata": {},
   "outputs": [],
   "source": [
    "dist_schema = StructType([\n",
    "    StructField(\"vertex\", IntegerType(), False),\n",
    "    StructField(\"distance\", IntegerType(), False)\n",
    "])"
   ]
  },
  {
   "cell_type": "code",
   "execution_count": 70,
   "metadata": {},
   "outputs": [],
   "source": [
    "from pyspark.sql.functions import col, when"
   ]
  },
  {
   "cell_type": "code",
   "execution_count": 112,
   "metadata": {},
   "outputs": [],
   "source": [
    "def shortest_path(v_from, v_to, dataset_path):\n",
    "    edges = spark_session.read.csv(dataset_path, sep=\"\\t\", schema=graph_schema)\n",
    "    edges.cache()\n",
    "    distances = spark_session.createDataFrame([(v_from, 0)], dist_schema)\n",
    "    d = 0\n",
    "    while True:\n",
    "        candidates = distances.join(edges, distances.vertex == col('from')) \\\n",
    "                              .select(col('to').alias('vertex'), (distances.distance+1).alias('distance'))\n",
    "\n",
    "        new_distances = distances.join(candidates, on='vertex', how='full_outer') \\\n",
    "                                 .select('vertex', when(\n",
    "                                                     distances.distance != 0, distances.distance\n",
    "                                                 ).otherwise(\n",
    "                                                     candidates.distance\n",
    "                                                 ).alias('distance')\n",
    "                                        ).cache()\n",
    "        count = new_distances.where(new_distances.distance==d+1).count()\n",
    "        if count > 0:\n",
    "            d += 1            \n",
    "            distances = candidates\n",
    "        else:\n",
    "            break  \n",
    "            \n",
    "        target = (new_distances\n",
    "                  .where(new_distances.vertex == v_to)\n",
    "                 ).count()\n",
    "        if  target > 0:\n",
    "            break\n",
    "     \n",
    "    return d"
   ]
  },
  {
   "cell_type": "code",
   "execution_count": null,
   "metadata": {},
   "outputs": [],
   "source": [
    "length = shortest_path(12, 34, \"/data/twitter/twitter_sample.txt\")"
   ]
  },
  {
   "cell_type": "code",
   "execution_count": null,
   "metadata": {},
   "outputs": [],
   "source": [
    "spark_session.stop()"
   ]
  },
  {
   "cell_type": "code",
   "execution_count": null,
   "metadata": {},
   "outputs": [],
   "source": [
    "print(length)"
   ]
  },
  {
   "cell_type": "code",
   "execution_count": null,
   "metadata": {},
   "outputs": [],
   "source": []
  }
 ],
 "metadata": {
  "kernelspec": {
   "display_name": "Python 3 (ipykernel)",
   "language": "python",
   "name": "python3"
  },
  "language_info": {
   "codemirror_mode": {
    "name": "ipython",
    "version": 3
   },
   "file_extension": ".py",
   "mimetype": "text/x-python",
   "name": "python",
   "nbconvert_exporter": "python",
   "pygments_lexer": "ipython3",
   "version": "3.8.9"
  }
 },
 "nbformat": 4,
 "nbformat_minor": 2
}
